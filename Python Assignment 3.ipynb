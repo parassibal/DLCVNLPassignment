{
 "cells": [
  {
   "cell_type": "code",
   "execution_count": 5,
   "metadata": {},
   "outputs": [
    {
     "name": "stdout",
     "output_type": "stream",
     "text": [
      "11\n"
     ]
    }
   ],
   "source": [
    "#Question1.1\n",
    "def myreduce(func_name,lst):\n",
    "    ans=lst[0]\n",
    "    for i in range(1,len(lst)+1):\n",
    "        ans=func_name(ans,i)\n",
    "    print(ans)\n",
    "def sum_numbers(ans,i):\n",
    "    return(ans+i)\n",
    "myreduce(sum_numbers,[1,2,3,4])"
   ]
  },
  {
   "cell_type": "code",
   "execution_count": 6,
   "metadata": {},
   "outputs": [
    {
     "name": "stdout",
     "output_type": "stream",
     "text": [
      "[2, 4, 6]\n"
     ]
    }
   ],
   "source": [
    "#Question1.2\n",
    "def myfilter(func_name,lst):\n",
    "    ans=[]\n",
    "    for i in lst:\n",
    "        if(func_name(i)==True):\n",
    "            ans.append(i)\n",
    "    print(ans)\n",
    "def is_even(num):\n",
    "    if(num%2==0):\n",
    "        return True\n",
    "myfilter(is_even,[1,2,3,4,5,6])"
   ]
  },
  {
   "cell_type": "code",
   "execution_count": 7,
   "metadata": {},
   "outputs": [
    {
     "name": "stdout",
     "output_type": "stream",
     "text": [
      "['x', 'xx', 'xxx', 'xxxx', 'y', 'yy', 'yyy', 'yyyy', 'z', 'zz', 'zzz', 'zzzz']\n",
      "\n",
      "\n",
      "['x', 'y', 'z', 'xx', 'yy', 'zz', 'xxx', 'yyy', 'zzz', 'xxxx', 'yyyy', 'zzzz']\n",
      "\n",
      "\n",
      "[[2], [3], [4], [3], [4], [5], [4], [5], [6]]\n",
      "\n",
      "\n",
      "[[2, 3, 4, 5], [3, 4, 5, 6], [4, 5, 6, 7], [5, 6, 7, 8]]\n",
      "\n",
      "\n",
      "[(1, 1), (2, 1), (3, 1), (1, 2), (2, 2), (3, 2), (1, 3), (2, 3), (3, 3)]\n"
     ]
    }
   ],
   "source": [
    "#Question2\n",
    "list1=['x','y','z']\n",
    "list2=[i*j for i in list1 for j in range(1,5)]\n",
    "print(list2)\n",
    "print('\\n')\n",
    "list3=[i*j for i in range(1,5) for j in list1]\n",
    "print(list3)\n",
    "print('\\n')\n",
    "list4=[2,3,4]\n",
    "list5=[[i+j] for i in list4 for j in range(0,3)]\n",
    "print(list5)\n",
    "print(\"\\n\")\n",
    "list6=[2,3,4,5]\n",
    "list7=[[i+j for i in list6] for j in range(0,4)]\n",
    "print(list7)\n",
    "print(\"\\n\")\n",
    "list8=[1,2,3]\n",
    "list9=[(j,i) for i in list8 for j in list8]\n",
    "print(list9)"
   ]
  },
  {
   "cell_type": "code",
   "execution_count": null,
   "metadata": {},
   "outputs": [],
   "source": [
    "#End"
   ]
  }
 ],
 "metadata": {
  "kernelspec": {
   "display_name": "Python 3",
   "language": "python",
   "name": "python3"
  },
  "language_info": {
   "codemirror_mode": {
    "name": "ipython",
    "version": 3
   },
   "file_extension": ".py",
   "mimetype": "text/x-python",
   "name": "python",
   "nbconvert_exporter": "python",
   "pygments_lexer": "ipython3",
   "version": "3.6.4"
  }
 },
 "nbformat": 4,
 "nbformat_minor": 2
}
