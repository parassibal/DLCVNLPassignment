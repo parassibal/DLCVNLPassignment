{
 "cells": [
  {
   "cell_type": "code",
   "execution_count": 9,
   "metadata": {
    "scrolled": true
   },
   "outputs": [
    {
     "name": "stdout",
     "output_type": "stream",
     "text": [
      "Enter Side1: 5\n",
      "Enter Side1: 4\n",
      "Enter Side1: 3\n",
      "Area of Triangle: 6.0\n"
     ]
    }
   ],
   "source": [
    "#Question1.1\n",
    "class Triangle:\n",
    "    def __init__(self,a,b,c):\n",
    "        self.a=a\n",
    "        self.b=b\n",
    "        self.c=c\n",
    "    \n",
    "    def show(self):\n",
    "        return(self.a,self.b,self.c)\n",
    "    \n",
    "    @classmethod   \n",
    "    def get_input(self):\n",
    "        a=float(input(\"Enter Side1: \"))\n",
    "        b=float(input(\"Enter Side1: \"))\n",
    "        c=float(input(\"Enter Side1: \"))\n",
    "        return self(a,b,c)\n",
    "    \n",
    "class TriArea(Triangle):\n",
    "    def __init__(self,a,b,c):\n",
    "        Triangle.__init__(self,a,b,c)\n",
    "    def area(self):\n",
    "        s=(self.a+self.b+self.c)/2\n",
    "        ar=(s*(s-self.a)*(s-self.b)*(s-self.c))**0.5\n",
    "        print(\"Area of Triangle: {}\".format(ar))\n",
    "    \n",
    "triangle=Triangle.get_input()\n",
    "triangle1=triangle.show()\n",
    "tri=TriArea(triangle1[0],triangle1[1],triangle1[2])\n",
    "tri.area()"
   ]
  },
  {
   "cell_type": "code",
   "execution_count": 10,
   "metadata": {},
   "outputs": [
    {
     "data": {
      "text/plain": [
       "['words', 'inueron']"
      ]
     },
     "execution_count": 10,
     "metadata": {},
     "output_type": "execute_result"
    }
   ],
   "source": [
    "#Question1.2\n",
    "def filter_long_words(l,n):\n",
    "    l1=[]\n",
    "    for i in l:\n",
    "        if(len(i)>n):\n",
    "            l1.append(i)\n",
    "    return(l1)\n",
    "l=[\"words\",\"inueron\",\"num\",\"hi\"]\n",
    "filter_long_words(l,3)"
   ]
  },
  {
   "cell_type": "code",
   "execution_count": 11,
   "metadata": {},
   "outputs": [
    {
     "data": {
      "text/plain": [
       "[2, 3, 4]"
      ]
     },
     "execution_count": 11,
     "metadata": {},
     "output_type": "execute_result"
    }
   ],
   "source": [
    "#Question2.1\n",
    "def len_words(l):\n",
    "    l1=[]\n",
    "    for i in l:\n",
    "        l1.append(len(i))\n",
    "    return(l1)\n",
    "l=[\"ab\",\"cde\",\"erty\"]\n",
    "len_words(l)"
   ]
  },
  {
   "cell_type": "code",
   "execution_count": 12,
   "metadata": {},
   "outputs": [
    {
     "name": "stdout",
     "output_type": "stream",
     "text": [
      "True\n",
      "False\n"
     ]
    }
   ],
   "source": [
    "#Question2.2\n",
    "def isvowel(str):\n",
    "    if(str=='a' or str=='e' or str=='i' or str=='o' or str=='u'):\n",
    "        return(True)\n",
    "    else:\n",
    "        return(False)\n",
    "print(isvowel(\"e\"))\n",
    "print(isvowel(\"k\"))"
   ]
  },
  {
   "cell_type": "code",
   "execution_count": null,
   "metadata": {},
   "outputs": [],
   "source": [
    "#End"
   ]
  }
 ],
 "metadata": {
  "kernelspec": {
   "display_name": "Python 3",
   "language": "python",
   "name": "python3"
  },
  "language_info": {
   "codemirror_mode": {
    "name": "ipython",
    "version": 3
   },
   "file_extension": ".py",
   "mimetype": "text/x-python",
   "name": "python",
   "nbconvert_exporter": "python",
   "pygments_lexer": "ipython3",
   "version": "3.6.4"
  }
 },
 "nbformat": 4,
 "nbformat_minor": 2
}
