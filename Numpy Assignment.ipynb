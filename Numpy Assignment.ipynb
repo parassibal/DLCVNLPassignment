{
 "cells": [
  {
   "cell_type": "code",
   "execution_count": 13,
   "metadata": {},
   "outputs": [
    {
     "name": "stdout",
     "output_type": "stream",
     "text": [
      "Matrix in decreasing order of power\n",
      "\n",
      " [[ 1  1  1  1]\n",
      " [ 8  4  2  1]\n",
      " [27  9  3  1]\n",
      " [64 16  4  1]] \n",
      "\n",
      "Matrix in increasing order of power\n",
      "\n",
      " [[ 1  1  1  1]\n",
      " [ 1  2  3  4]\n",
      " [ 1  4  9 16]\n",
      " [ 1  8 27 64]]\n"
     ]
    }
   ],
   "source": [
    "#Question1\n",
    "import numpy as np\n",
    "a=np.array([1,2,3,4])\n",
    "pw=4\n",
    "n_inc=np.column_stack([a**(pw-1-i) for i in range(pw)])\n",
    "inc=np.array([a**(i) for i in range(pw)])\n",
    "print(\"Matrix in decreasing order of power\\n\\n\",n_inc,\"\\n\")\n",
    "print(\"Matrix in increasing order of power\\n\\n\",inc)"
   ]
  },
  {
   "cell_type": "code",
   "execution_count": 22,
   "metadata": {},
   "outputs": [
    {
     "name": "stdout",
     "output_type": "stream",
     "text": [
      "[  5.     4.67   5.67   6.67   9.67  28.67  49.33  72.67  84.    93.33\n",
      " 116.33]\n"
     ]
    }
   ],
   "source": [
    "#Question2\n",
    "x=[3,5,7,2,8,10,11,65,72,81,99,100,150]\n",
    "n=3\n",
    "sum1=0\n",
    "s=0\n",
    "y=np.array(x)\n",
    "y_sum=np.cumsum(y,dtype=float)\n",
    "y_sum[n:]=y_sum[n:]-y_sum[:-n]\n",
    "print((y_sum[n-1:]/n).round(2))"
   ]
  }
 ],
 "metadata": {
  "kernelspec": {
   "display_name": "Python 3",
   "language": "python",
   "name": "python3"
  },
  "language_info": {
   "codemirror_mode": {
    "name": "ipython",
    "version": 3
   },
   "file_extension": ".py",
   "mimetype": "text/x-python",
   "name": "python",
   "nbconvert_exporter": "python",
   "pygments_lexer": "ipython3",
   "version": "3.6.4"
  }
 },
 "nbformat": 4,
 "nbformat_minor": 2
}
